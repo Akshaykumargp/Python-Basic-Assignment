{
 "cells": [
  {
   "cell_type": "markdown",
   "metadata": {},
   "source": [
    "\"1.What are the two values of the Boolean data type? How do you write them?\"\n",
    "\n",
    "Ans:\n",
    "    \n",
    "    The Python Boolean type has two values:\n",
    "\n",
    "    1.True.\n",
    "    \n",
    "    2.False."
   ]
  },
  {
   "cell_type": "markdown",
   "metadata": {},
   "source": [
    "2. What are the three different types of Boolean operators?\n",
    "\n",
    "Ans:\n",
    "    \n",
    "    The three Boolean operators are AND, OR & NOT."
   ]
  },
  {
   "cell_type": "markdown",
   "metadata": {},
   "source": [
    "3. Make a list of each Boolean operator's truth tables (i.e. every possible combination of Boolean values for the operator and what it evaluate.\n",
    "\n",
    "Ans:\n",
    "    \n",
    "    Using AND Operator\n",
    "    \n",
    "    True and True = True.\n",
    "    True and False = False.\n",
    "    False and True = False.\n",
    "    False and False = False.\n",
    "    \n",
    "    \n",
    "    Using OR Operator\n",
    "    \n",
    "    True or True = True\n",
    "    True or False = True\n",
    "    False or True = True\n",
    "    False or False = False\n",
    "    \n",
    "    \n",
    "    Using NOT Operator\n",
    "    \n",
    "    not(True) = False\n",
    "    not(False) = True"
   ]
  },
  {
   "cell_type": "markdown",
   "metadata": {},
   "source": [
    "4. What are the values of the following expressions?\n",
    "\n",
    "(5 > 4) and (3 == 5)\n",
    "\n",
    "not (5 > 4)\n",
    "\n",
    "(5 > 4) or (3 == 5)\n",
    "\n",
    "not ((5 > 4) or (3 == 5))\n",
    "\n",
    "(True and True) and (True == False)\n",
    "\n",
    "(not False) or (not True)\n",
    "\n",
    "\n",
    "Ans:\n",
    "\n",
    "(5 > 4) and (3 == 5) = False\n",
    "\n",
    "not (5 > 4) = False\n",
    "\n",
    "(5 > 4) or (3 == 5) = True\n",
    " \n",
    "not ((5 > 4) or (3 == 5)) = False\n",
    "\n",
    "(True and True) and (True == False)=False\n",
    "\n",
    "(not False) or (not True) = True"
   ]
  },
  {
   "cell_type": "markdown",
   "metadata": {},
   "source": [
    "5. What are the six comparison operators?\n",
    "\n",
    "Ans:\n",
    "    \n",
    "    There are six main comparison operators: equal to, not equal to, greater than, greater than or equal to, \n",
    "        less than, and less than or equal to"
   ]
  },
  {
   "cell_type": "markdown",
   "metadata": {},
   "source": [
    "6. How do you tell the difference between the equal to and assignment operators?\n",
    "   Describe a condition and when you would use one.\n",
    "\n",
    "Ans:\n",
    "    \n",
    "The “=” is an assignment operator is used to assign the value on the right to the variable on the left. \n",
    "The '==' operator checks whether the two given operands are equal or not.\n",
    "If so, it returns true. Otherwise it returns false"
   ]
  },
  {
   "cell_type": "markdown",
   "metadata": {},
   "source": [
    "7. Identify the three blocks in this code:\n",
    "\n",
    "\n",
    "spam = 0\n",
    "\n",
    "if spam == 10:\n",
    "\n",
    "    print('eggs')\n",
    "    \n",
    "if spam > 5:\n",
    "\n",
    "    print('bacon')\n",
    "    \n",
    "else:\n",
    "\n",
    "    print('ham')\n",
    "    print('spam')\n",
    "    print('spam')\n",
    "    \n",
    " Ans:\n",
    " \n",
    " First block of code=\n",
    " \n",
    " if spam == 10:\n",
    "    print('eggs')\n",
    "    \n",
    "Second block of code=\n",
    "\n",
    "if spam > 5:\n",
    "    print('bacon')\n",
    "    \n",
    "    \n",
    "Third block of code=   \n",
    "\n",
    "    else:\n",
    "    print('ham')\n",
    "    print('spam')\n",
    "    print('spam')\n",
    " "
   ]
  },
  {
   "cell_type": "markdown",
   "metadata": {},
   "source": [
    "8. Write code that prints Hello if 1 is stored in spam, prints Howdy if 2 is stored in spam, and prints Greetings! if anything else is stored in spam."
   ]
  },
  {
   "cell_type": "code",
   "execution_count": 11,
   "metadata": {},
   "outputs": [
    {
     "name": "stdout",
     "output_type": "stream",
     "text": [
      "3\n",
      "Greetings!\n"
     ]
    }
   ],
   "source": [
    "spam=int(input())\n",
    "if spam==1:\n",
    "    print(\"Hello\")\n",
    "elif spam==2:\n",
    "    print(\"Howdy\")\n",
    "else:\n",
    "    print(\"Greetings!\")"
   ]
  },
  {
   "cell_type": "markdown",
   "metadata": {},
   "source": [
    "9.If your programme is stuck in an endless loop, what keys you’ll press?\n",
    "\n",
    "Ans:\n",
    "    \n",
    "    Restart the kernel"
   ]
  },
  {
   "cell_type": "markdown",
   "metadata": {},
   "source": [
    "10. How can you tell the difference between break and continue?\n",
    "\n",
    "\n",
    "Ans:\n",
    "\n",
    "Break statement is used in switch and loops.\n",
    "\n",
    "The Python break statement stops the loop in which the statement is placed.\n",
    "\n",
    "\n",
    "continue statement is used in loops only.\n",
    "\n",
    "Python continue statement skips a single iteration in a loop"
   ]
  },
  {
   "cell_type": "markdown",
   "metadata": {},
   "source": [
    "11. In a for loop, what is the difference between range(10), range(0, 10), and range(0, 10, 1)?\n",
    "\n",
    "Ans:\n",
    "\n",
    "There is no difference. All of them gives same result."
   ]
  },
  {
   "cell_type": "markdown",
   "metadata": {},
   "source": [
    "12. Write a short program that prints the numbers 1 to 10 using a for loop.\n",
    "Then write an equivalent program that prints the numbers 1 to 10 using a while loop."
   ]
  },
  {
   "cell_type": "code",
   "execution_count": 23,
   "metadata": {},
   "outputs": [
    {
     "name": "stdout",
     "output_type": "stream",
     "text": [
      "1\n",
      "2\n",
      "3\n",
      "4\n",
      "5\n",
      "6\n",
      "7\n",
      "8\n",
      "9\n",
      "10\n"
     ]
    }
   ],
   "source": [
    "# using for loop\n",
    "for i in range(1,11):\n",
    "    print(i)"
   ]
  },
  {
   "cell_type": "code",
   "execution_count": 24,
   "metadata": {},
   "outputs": [
    {
     "name": "stdout",
     "output_type": "stream",
     "text": [
      "1\n",
      "2\n",
      "3\n",
      "4\n",
      "5\n",
      "6\n",
      "7\n",
      "8\n",
      "9\n",
      "10\n"
     ]
    }
   ],
   "source": [
    "#using while loop\n",
    "i=1\n",
    "while i<11:\n",
    "    print(i)\n",
    "    i+=1"
   ]
  },
  {
   "cell_type": "markdown",
   "metadata": {},
   "source": [
    "13. If you had a function named bacon() inside a module named spam, how would you call it after importing spam?\n",
    "\n",
    "Ans:\n",
    "    \n",
    "    spam. bacon()"
   ]
  },
  {
   "cell_type": "code",
   "execution_count": null,
   "metadata": {},
   "outputs": [],
   "source": []
  }
 ],
 "metadata": {
  "kernelspec": {
   "display_name": "Python 3",
   "language": "python",
   "name": "python3"
  },
  "language_info": {
   "codemirror_mode": {
    "name": "ipython",
    "version": 3
   },
   "file_extension": ".py",
   "mimetype": "text/x-python",
   "name": "python",
   "nbconvert_exporter": "python",
   "pygments_lexer": "ipython3",
   "version": "3.8.5"
  }
 },
 "nbformat": 4,
 "nbformat_minor": 4
}
